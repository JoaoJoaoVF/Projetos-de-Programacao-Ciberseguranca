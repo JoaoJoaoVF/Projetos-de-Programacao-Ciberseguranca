{
 "cells": [
  {
   "cell_type": "markdown",
   "id": "7e3c5596",
   "metadata": {
    "papermill": {
     "duration": 0.063483,
     "end_time": "2023-07-03T17:24:14.819477",
     "exception": false,
     "start_time": "2023-07-03T17:24:14.755994",
     "status": "completed"
    },
    "tags": []
   },
   "source": [
    "# **Cibersegurança 2023/1 - Projeto de Programação 1**\n",
    "\n",
    "### Classificador de SPAM \n",
    "\n",
    "#### **Aluno**: João Vitor Ferreira\n",
    "#### **Matricula**: 2021039654"
   ]
  },
  {
   "cell_type": "code",
   "execution_count": 1,
   "id": "2de764db",
   "metadata": {
    "_cell_guid": "b1076dfc-b9ad-4769-8c92-a6c4dae69d19",
    "_uuid": "8f2839f25d086af736a60e9eeb907d3b93b6e0e5",
    "execution": {
     "iopub.execute_input": "2023-07-03T17:24:14.959142Z",
     "iopub.status.busy": "2023-07-03T17:24:14.958145Z",
     "iopub.status.idle": "2023-07-03T17:24:14.967338Z",
     "shell.execute_reply": "2023-07-03T17:24:14.966576Z",
     "shell.execute_reply.started": "2023-06-30T19:50:39.038976Z"
    },
    "papermill": {
     "duration": 0.084895,
     "end_time": "2023-07-03T17:24:14.967534",
     "exception": false,
     "start_time": "2023-07-03T17:24:14.882639",
     "status": "completed"
    },
    "tags": []
   },
   "outputs": [
    {
     "name": "stdout",
     "output_type": "stream",
     "text": [
      "/kaggle/input/sms-spam-collection-dataset/spam.csv\n"
     ]
    }
   ],
   "source": [
    "#Estudo de caso 5 do curso de Introduação à Ciência de Dados Aplicada à Cibersegurança\n",
    "\n",
    "#Importando bibliotecas básicas\n",
    "\n",
    "import numpy as np # vetores e matrizes \n",
    "import pandas as pd # processamento dos dados, arquivo CSV I/O (e.g. pd.read_csv)\n",
    "\n",
    "# Input data files are available in the read-only \"../input/\" directory\n",
    "# For example, running this (by clicking run or pressing Shift+Enter) will list all files under the input directory\n",
    "\n",
    "import os\n",
    "for dirname, _, filenames in os.walk('/kaggle/input'):\n",
    "    for filename in filenames:\n",
    "        print(os.path.join(dirname, filename))\n",
    "\n",
    "# You can write up to 20GB to the current directory (/kaggle/working/) that gets preserved as output when you create a version using \"Save & Run All\" \n",
    "# You can also write temporary files to /kaggle/temp/, but they won't be saved outside of the current session"
   ]
  },
  {
   "cell_type": "markdown",
   "id": "1f73757c",
   "metadata": {
    "papermill": {
     "duration": 0.062939,
     "end_time": "2023-07-03T17:24:15.093450",
     "exception": false,
     "start_time": "2023-07-03T17:24:15.030511",
     "status": "completed"
    },
    "tags": []
   },
   "source": [
    "# **Importando os Dados**"
   ]
  },
  {
   "cell_type": "code",
   "execution_count": 2,
   "id": "eb6f14ab",
   "metadata": {
    "execution": {
     "iopub.execute_input": "2023-07-03T17:24:15.224385Z",
     "iopub.status.busy": "2023-07-03T17:24:15.223518Z",
     "iopub.status.idle": "2023-07-03T17:24:15.269993Z",
     "shell.execute_reply": "2023-07-03T17:24:15.270582Z",
     "shell.execute_reply.started": "2023-06-30T19:50:39.057876Z"
    },
    "papermill": {
     "duration": 0.115155,
     "end_time": "2023-07-03T17:24:15.270786",
     "exception": false,
     "start_time": "2023-07-03T17:24:15.155631",
     "status": "completed"
    },
    "tags": []
   },
   "outputs": [
    {
     "data": {
      "text/html": [
       "<div>\n",
       "<style scoped>\n",
       "    .dataframe tbody tr th:only-of-type {\n",
       "        vertical-align: middle;\n",
       "    }\n",
       "\n",
       "    .dataframe tbody tr th {\n",
       "        vertical-align: top;\n",
       "    }\n",
       "\n",
       "    .dataframe thead th {\n",
       "        text-align: right;\n",
       "    }\n",
       "</style>\n",
       "<table border=\"1\" class=\"dataframe\">\n",
       "  <thead>\n",
       "    <tr style=\"text-align: right;\">\n",
       "      <th></th>\n",
       "      <th>label</th>\n",
       "      <th>message</th>\n",
       "    </tr>\n",
       "  </thead>\n",
       "  <tbody>\n",
       "    <tr>\n",
       "      <th>0</th>\n",
       "      <td>ham</td>\n",
       "      <td>Go until jurong point, crazy.. Available only ...</td>\n",
       "    </tr>\n",
       "    <tr>\n",
       "      <th>1</th>\n",
       "      <td>ham</td>\n",
       "      <td>Ok lar... Joking wif u oni...</td>\n",
       "    </tr>\n",
       "    <tr>\n",
       "      <th>2</th>\n",
       "      <td>spam</td>\n",
       "      <td>Free entry in 2 a wkly comp to win FA Cup fina...</td>\n",
       "    </tr>\n",
       "    <tr>\n",
       "      <th>3</th>\n",
       "      <td>ham</td>\n",
       "      <td>U dun say so early hor... U c already then say...</td>\n",
       "    </tr>\n",
       "    <tr>\n",
       "      <th>4</th>\n",
       "      <td>ham</td>\n",
       "      <td>Nah I don't think he goes to usf, he lives aro...</td>\n",
       "    </tr>\n",
       "  </tbody>\n",
       "</table>\n",
       "</div>"
      ],
      "text/plain": [
       "  label                                            message\n",
       "0   ham  Go until jurong point, crazy.. Available only ...\n",
       "1   ham                      Ok lar... Joking wif u oni...\n",
       "2  spam  Free entry in 2 a wkly comp to win FA Cup fina...\n",
       "3   ham  U dun say so early hor... U c already then say...\n",
       "4   ham  Nah I don't think he goes to usf, he lives aro..."
      ]
     },
     "execution_count": 2,
     "metadata": {},
     "output_type": "execute_result"
    }
   ],
   "source": [
    "# Importando a base de dados para o pandas\n",
    "\n",
    "sms = pd.read_csv(\"/kaggle/input/sms-spam-collection-dataset/spam.csv\", encoding = \"ISO-8859-1\", usecols=[0,1], skiprows=1,\n",
    "                  names=[\"label\", \"message\"])\n",
    "sms.head()"
   ]
  },
  {
   "cell_type": "code",
   "execution_count": 3,
   "id": "1ac79b33",
   "metadata": {
    "execution": {
     "iopub.execute_input": "2023-07-03T17:24:15.400849Z",
     "iopub.status.busy": "2023-07-03T17:24:15.399975Z",
     "iopub.status.idle": "2023-07-03T17:24:15.416510Z",
     "shell.execute_reply": "2023-07-03T17:24:15.415790Z",
     "shell.execute_reply.started": "2023-06-30T19:50:39.096010Z"
    },
    "papermill": {
     "duration": 0.08377,
     "end_time": "2023-07-03T17:24:15.416734",
     "exception": false,
     "start_time": "2023-07-03T17:24:15.332964",
     "status": "completed"
    },
    "tags": []
   },
   "outputs": [],
   "source": [
    "sms.label = sms.label.map({\"ham\":0, \"spam\":1})"
   ]
  },
  {
   "cell_type": "code",
   "execution_count": 4,
   "id": "00d26822",
   "metadata": {
    "execution": {
     "iopub.execute_input": "2023-07-03T17:24:15.614110Z",
     "iopub.status.busy": "2023-07-03T17:24:15.613321Z",
     "iopub.status.idle": "2023-07-03T17:24:15.621707Z",
     "shell.execute_reply": "2023-07-03T17:24:15.622303Z",
     "shell.execute_reply.started": "2023-06-30T19:50:39.106598Z"
    },
    "papermill": {
     "duration": 0.074203,
     "end_time": "2023-07-03T17:24:15.622499",
     "exception": false,
     "start_time": "2023-07-03T17:24:15.548296",
     "status": "completed"
    },
    "tags": []
   },
   "outputs": [
    {
     "data": {
      "text/plain": [
       "0    4825\n",
       "1     747\n",
       "Name: label, dtype: int64"
      ]
     },
     "execution_count": 4,
     "metadata": {},
     "output_type": "execute_result"
    }
   ],
   "source": [
    "# mais casos negativos (ham) que positivos (spams) \n",
    "sms.label.value_counts()"
   ]
  },
  {
   "cell_type": "code",
   "execution_count": 5,
   "id": "e9b377ca",
   "metadata": {
    "execution": {
     "iopub.execute_input": "2023-07-03T17:24:15.757324Z",
     "iopub.status.busy": "2023-07-03T17:24:15.756172Z",
     "iopub.status.idle": "2023-07-03T17:24:16.779956Z",
     "shell.execute_reply": "2023-07-03T17:24:16.779263Z",
     "shell.execute_reply.started": "2023-06-30T19:50:39.123074Z"
    },
    "papermill": {
     "duration": 1.094622,
     "end_time": "2023-07-03T17:24:16.780129",
     "exception": false,
     "start_time": "2023-07-03T17:24:15.685507",
     "status": "completed"
    },
    "tags": []
   },
   "outputs": [],
   "source": [
    "#Dividindo a base em treino e teste\n",
    "from sklearn.model_selection import train_test_split\n",
    "features_train, features_test, labels_train, labels_test = train_test_split(sms.message, \n",
    "                                                                            sms.label, \n",
    "                                                                            test_size=0.2)"
   ]
  },
  {
   "cell_type": "code",
   "execution_count": 6,
   "id": "a069e778",
   "metadata": {
    "execution": {
     "iopub.execute_input": "2023-07-03T17:24:16.912081Z",
     "iopub.status.busy": "2023-07-03T17:24:16.911225Z",
     "iopub.status.idle": "2023-07-03T17:24:17.069364Z",
     "shell.execute_reply": "2023-07-03T17:24:17.070168Z",
     "shell.execute_reply.started": "2023-06-30T19:50:39.508005Z"
    },
    "papermill": {
     "duration": 0.227192,
     "end_time": "2023-07-03T17:24:17.070371",
     "exception": false,
     "start_time": "2023-07-03T17:24:16.843179",
     "status": "completed"
    },
    "tags": []
   },
   "outputs": [
    {
     "data": {
      "text/plain": [
       "CountVectorizer()"
      ]
     },
     "execution_count": 6,
     "metadata": {},
     "output_type": "execute_result"
    }
   ],
   "source": [
    "# Criando o documento de treino\n",
    "\n",
    "from sklearn.feature_extraction.text import CountVectorizer\n",
    "\n",
    "couvec = CountVectorizer()\n",
    "couvec.fit(features_train)\n"
   ]
  },
  {
   "cell_type": "code",
   "execution_count": 7,
   "id": "9420c609",
   "metadata": {
    "execution": {
     "iopub.execute_input": "2023-07-03T17:24:17.200750Z",
     "iopub.status.busy": "2023-07-03T17:24:17.199967Z",
     "iopub.status.idle": "2023-07-03T17:24:17.212354Z",
     "shell.execute_reply": "2023-07-03T17:24:17.211542Z",
     "shell.execute_reply.started": "2023-06-30T19:50:39.684147Z"
    },
    "papermill": {
     "duration": 0.078681,
     "end_time": "2023-07-03T17:24:17.212522",
     "exception": false,
     "start_time": "2023-07-03T17:24:17.133841",
     "status": "completed"
    },
    "tags": []
   },
   "outputs": [
    {
     "name": "stdout",
     "output_type": "stream",
     "text": [
      "Número de características vetorizadas: 7617\n",
      "Exemplos de características treinadas: ['000', '000pes', '008704050406', '0089', '0121', '01223585236', '01223585334', '0125698789', '02']\n"
     ]
    }
   ],
   "source": [
    "# número de características ou tokens\n",
    "trained_features = couvec.get_feature_names()\n",
    "print(\"Número de características vetorizadas:\", len(trained_features))\n",
    "print(\"Exemplos de características treinadas:\", trained_features[1:10])"
   ]
  },
  {
   "cell_type": "code",
   "execution_count": 8,
   "id": "aa3f8c1f",
   "metadata": {
    "execution": {
     "iopub.execute_input": "2023-07-03T17:24:17.354589Z",
     "iopub.status.busy": "2023-07-03T17:24:17.349355Z",
     "iopub.status.idle": "2023-07-03T17:24:17.487773Z",
     "shell.execute_reply": "2023-07-03T17:24:17.488387Z",
     "shell.execute_reply.started": "2023-06-30T19:50:39.700176Z"
    },
    "papermill": {
     "duration": 0.212041,
     "end_time": "2023-07-03T17:24:17.488594",
     "exception": false,
     "start_time": "2023-07-03T17:24:17.276553",
     "status": "completed"
    },
    "tags": []
   },
   "outputs": [
    {
     "name": "stdout",
     "output_type": "stream",
     "text": [
      "Shape of dtm_train: (4457, 7617)\n",
      "  (0, 3554)\t1\n",
      "  (0, 7566)\t1\n",
      "  (0, 3432)\t1\n",
      "  (0, 6714)\t1\n",
      "  (0, 1905)\t1\n",
      "  (0, 2420)\t1\n",
      "  (0, 7415)\t1\n",
      "  (0, 4412)\t1\n",
      "  (1, 2122)\t1\n",
      "  (1, 4176)\t1\n",
      "  (1, 4816)\t1\n",
      "  (1, 6704)\t1\n",
      "  (1, 4682)\t1\n",
      "  (1, 4728)\t1\n",
      "  (1, 4471)\t1\n",
      "  (1, 3001)\t1\n",
      "  (1, 4860)\t1\n",
      "  (1, 257)\t1\n",
      "  (1, 1108)\t1\n",
      "  (1, 6972)\t1\n",
      "  (1, 6969)\t1\n",
      "  (1, 7456)\t1\n",
      "  (1, 6335)\t1\n",
      "  (1, 6815)\t1\n",
      "  (1, 4718)\t1\n",
      "  (1, 645)\t1\n",
      "  (1, 3093)\t1\n",
      "  (1, 7573)\t1\n",
      "  (1, 4765)\t1\n",
      "  (1, 520)\t1\n",
      "  (1, 2098)\t1\n",
      "  (1, 6617)\t1\n",
      "  (1, 306)\t1\n",
      "  (1, 4553)\t1\n"
     ]
    }
   ],
   "source": [
    "# tokenized train documents\n",
    "\n",
    "dtm_train = couvec.fit_transform(features_train)\n",
    "print(\"Shape of dtm_train:\", dtm_train.shape)\n",
    "print(dtm_train[0:2]) # first two rows of sparse matrix"
   ]
  },
  {
   "cell_type": "code",
   "execution_count": 9,
   "id": "99b80ad1",
   "metadata": {
    "execution": {
     "iopub.execute_input": "2023-07-03T17:24:17.652005Z",
     "iopub.status.busy": "2023-07-03T17:24:17.622048Z",
     "iopub.status.idle": "2023-07-03T17:24:17.655543Z",
     "shell.execute_reply": "2023-07-03T17:24:17.656303Z",
     "shell.execute_reply.started": "2023-06-30T19:50:39.854070Z"
    },
    "papermill": {
     "duration": 0.102363,
     "end_time": "2023-07-03T17:24:17.656502",
     "exception": false,
     "start_time": "2023-07-03T17:24:17.554139",
     "status": "completed"
    },
    "tags": []
   },
   "outputs": [
    {
     "name": "stdout",
     "output_type": "stream",
     "text": [
      "Shape of dtm_test: (1115, 7617)\n"
     ]
    }
   ],
   "source": [
    "# tokenized test documents\n",
    "\n",
    "dtm_test = couvec.transform(features_test)\n",
    "print(\"Shape of dtm_test:\", dtm_test.shape)"
   ]
  },
  {
   "cell_type": "markdown",
   "id": "386c20bd",
   "metadata": {
    "papermill": {
     "duration": 0.066517,
     "end_time": "2023-07-03T17:24:17.788389",
     "exception": false,
     "start_time": "2023-07-03T17:24:17.721872",
     "status": "completed"
    },
    "tags": []
   },
   "source": [
    "# **Multimodal Naive Bayes - ORIGINAL**"
   ]
  },
  {
   "cell_type": "code",
   "execution_count": 10,
   "id": "296c2a83",
   "metadata": {
    "execution": {
     "iopub.execute_input": "2023-07-03T17:24:17.922797Z",
     "iopub.status.busy": "2023-07-03T17:24:17.921139Z",
     "iopub.status.idle": "2023-07-03T17:24:17.928456Z",
     "shell.execute_reply": "2023-07-03T17:24:17.927713Z",
     "shell.execute_reply.started": "2023-06-30T19:50:39.893947Z"
    },
    "papermill": {
     "duration": 0.075317,
     "end_time": "2023-07-03T17:24:17.928617",
     "exception": false,
     "start_time": "2023-07-03T17:24:17.853300",
     "status": "completed"
    },
    "tags": []
   },
   "outputs": [],
   "source": [
    "# Construíndo e avaliando o modelo \n",
    "\n",
    "# Multimodal Naive Bayes \n",
    "# O classificador multimodal Naive Bays é útil para classificar características discretas. \n",
    "# (e.g., número de palavras para classificação de textos). \n",
    "# A distribuição multimodal requer geralmente contadores inteiros como features.\n",
    "\n",
    "# Importando e instanciando o modelo Nayve Bayes Multimodal\n",
    "from sklearn.naive_bayes import MultinomialNB\n",
    "nb = MultinomialNB()"
   ]
  },
  {
   "cell_type": "code",
   "execution_count": 11,
   "id": "93ba20a9",
   "metadata": {
    "execution": {
     "iopub.execute_input": "2023-07-03T17:24:18.064000Z",
     "iopub.status.busy": "2023-07-03T17:24:18.063192Z",
     "iopub.status.idle": "2023-07-03T17:24:18.072469Z",
     "shell.execute_reply": "2023-07-03T17:24:18.073028Z",
     "shell.execute_reply.started": "2023-06-30T19:50:39.908075Z"
    },
    "papermill": {
     "duration": 0.080067,
     "end_time": "2023-07-03T17:24:18.073232",
     "exception": false,
     "start_time": "2023-07-03T17:24:17.993165",
     "status": "completed"
    },
    "tags": []
   },
   "outputs": [
    {
     "data": {
      "text/plain": [
       "MultinomialNB()"
      ]
     },
     "execution_count": 11,
     "metadata": {},
     "output_type": "execute_result"
    }
   ],
   "source": [
    "# Treinando o modelo\n",
    "\n",
    "nb.fit(dtm_train, labels_train)"
   ]
  },
  {
   "cell_type": "code",
   "execution_count": 12,
   "id": "053d535d",
   "metadata": {
    "execution": {
     "iopub.execute_input": "2023-07-03T17:24:18.211682Z",
     "iopub.status.busy": "2023-07-03T17:24:18.210804Z",
     "iopub.status.idle": "2023-07-03T17:24:18.214109Z",
     "shell.execute_reply": "2023-07-03T17:24:18.213508Z",
     "shell.execute_reply.started": "2023-06-30T19:50:39.926489Z"
    },
    "papermill": {
     "duration": 0.07496,
     "end_time": "2023-07-03T17:24:18.214274",
     "exception": false,
     "start_time": "2023-07-03T17:24:18.139314",
     "status": "completed"
    },
    "tags": []
   },
   "outputs": [],
   "source": [
    "# Fazendo predições\n",
    "\n",
    "labels_pred = nb.predict(dtm_test)"
   ]
  },
  {
   "cell_type": "code",
   "execution_count": 13,
   "id": "926b9906",
   "metadata": {
    "execution": {
     "iopub.execute_input": "2023-07-03T17:24:18.350358Z",
     "iopub.status.busy": "2023-07-03T17:24:18.349185Z",
     "iopub.status.idle": "2023-07-03T17:24:18.357137Z",
     "shell.execute_reply": "2023-07-03T17:24:18.357839Z",
     "shell.execute_reply.started": "2023-06-30T19:50:39.938490Z"
    },
    "papermill": {
     "duration": 0.077896,
     "end_time": "2023-07-03T17:24:18.358047",
     "exception": false,
     "start_time": "2023-07-03T17:24:18.280151",
     "status": "completed"
    },
    "tags": []
   },
   "outputs": [
    {
     "data": {
      "text/plain": [
       "0.9820627802690582"
      ]
     },
     "execution_count": 13,
     "metadata": {},
     "output_type": "execute_result"
    }
   ],
   "source": [
    "# Acurácia\n",
    "from sklearn import metrics\n",
    "nb_accuracy = metrics.accuracy_score(labels_test, labels_pred)\n",
    "nb_accuracy"
   ]
  },
  {
   "cell_type": "code",
   "execution_count": 14,
   "id": "ab6facb5",
   "metadata": {
    "execution": {
     "iopub.execute_input": "2023-07-03T17:24:18.495376Z",
     "iopub.status.busy": "2023-07-03T17:24:18.494560Z",
     "iopub.status.idle": "2023-07-03T17:24:18.502918Z",
     "shell.execute_reply": "2023-07-03T17:24:18.503560Z",
     "shell.execute_reply.started": "2023-06-30T19:50:39.953020Z"
    },
    "papermill": {
     "duration": 0.077558,
     "end_time": "2023-07-03T17:24:18.503777",
     "exception": false,
     "start_time": "2023-07-03T17:24:18.426219",
     "status": "completed"
    },
    "tags": []
   },
   "outputs": [
    {
     "data": {
      "text/plain": [
       "array([[960,   6],\n",
       "       [ 14, 135]])"
      ]
     },
     "execution_count": 14,
     "metadata": {},
     "output_type": "execute_result"
    }
   ],
   "source": [
    "# Criando a matrix de confusão para precisão e recall (essas são duas outrss métricas de avaliação) \n",
    "metrics.confusion_matrix(labels_test, labels_pred)"
   ]
  },
  {
   "cell_type": "code",
   "execution_count": 15,
   "id": "ba65d0b6",
   "metadata": {
    "execution": {
     "iopub.execute_input": "2023-07-03T17:24:18.639889Z",
     "iopub.status.busy": "2023-07-03T17:24:18.639154Z",
     "iopub.status.idle": "2023-07-03T17:24:18.649738Z",
     "shell.execute_reply": "2023-07-03T17:24:18.650346Z",
     "shell.execute_reply.started": "2023-06-30T19:50:39.967030Z"
    },
    "papermill": {
     "duration": 0.080302,
     "end_time": "2023-07-03T17:24:18.650546",
     "exception": false,
     "start_time": "2023-07-03T17:24:18.570244",
     "status": "completed"
    },
    "tags": []
   },
   "outputs": [
    {
     "name": "stdout",
     "output_type": "stream",
     "text": [
      "Recall: 0.9060402684563759\n",
      "Precisão: 0.9574468085106383\n"
     ]
    }
   ],
   "source": [
    "# Percentagem do total de spams detectados i.e.recall\n",
    "print(\"Recall:\", metrics.recall_score(labels_test, labels_pred))\n",
    "\n",
    "nb_precision = metrics.precision_score(labels_test, labels_pred)\n",
    "\n",
    "# Percentagem das predições positivas (spams) corretas, i.e. precisão\n",
    "print(\"Precisão:\", nb_precision)"
   ]
  },
  {
   "cell_type": "code",
   "execution_count": 16,
   "id": "10ecf96f",
   "metadata": {
    "execution": {
     "iopub.execute_input": "2023-07-03T17:24:18.793738Z",
     "iopub.status.busy": "2023-07-03T17:24:18.790624Z",
     "iopub.status.idle": "2023-07-03T17:24:18.798716Z",
     "shell.execute_reply": "2023-07-03T17:24:18.799364Z",
     "shell.execute_reply.started": "2023-06-30T19:50:39.979976Z"
    },
    "papermill": {
     "duration": 0.081764,
     "end_time": "2023-07-03T17:24:18.799581",
     "exception": false,
     "start_time": "2023-07-03T17:24:18.717817",
     "status": "completed"
    },
    "tags": []
   },
   "outputs": [
    {
     "name": "stdout",
     "output_type": "stream",
     "text": [
      "Ordem das classes no predict_proba: [0 1]\n",
      "Exemplos de probabilidades de classes: [9.99998472e-01 1.52766005e-06]\n"
     ]
    }
   ],
   "source": [
    "print(\"Ordem das classes no predict_proba:\", nb.classes_)\n",
    "print(\"Exemplos de probabilidades de classes:\", nb.predict_proba(dtm_test)[0])\n"
   ]
  },
  {
   "cell_type": "code",
   "execution_count": 17,
   "id": "60e17a8f",
   "metadata": {
    "execution": {
     "iopub.execute_input": "2023-07-03T17:24:18.939559Z",
     "iopub.status.busy": "2023-07-03T17:24:18.938689Z",
     "iopub.status.idle": "2023-07-03T17:24:18.946922Z",
     "shell.execute_reply": "2023-07-03T17:24:18.947538Z",
     "shell.execute_reply.started": "2023-06-30T19:50:39.993360Z"
    },
    "papermill": {
     "duration": 0.078966,
     "end_time": "2023-07-03T17:24:18.947754",
     "exception": false,
     "start_time": "2023-07-03T17:24:18.868788",
     "status": "completed"
    },
    "tags": []
   },
   "outputs": [],
   "source": [
    "# Uma vez que somente ~15% dos rótulos são positivos (spam), a curva precisão-recall é mais informativa que\n",
    "# a curva ROC\n",
    "\n",
    "labels_prob = nb.predict_proba(dtm_test)[:, 1]\n",
    "precisions, recalls, thresholds = metrics.precision_recall_curve(labels_test, labels_prob)"
   ]
  },
  {
   "cell_type": "code",
   "execution_count": 18,
   "id": "64c0396d",
   "metadata": {
    "execution": {
     "iopub.execute_input": "2023-07-03T17:24:19.085225Z",
     "iopub.status.busy": "2023-07-03T17:24:19.084412Z",
     "iopub.status.idle": "2023-07-03T17:24:19.443399Z",
     "shell.execute_reply": "2023-07-03T17:24:19.442609Z",
     "shell.execute_reply.started": "2023-06-30T19:50:40.003953Z"
    },
    "papermill": {
     "duration": 0.429046,
     "end_time": "2023-07-03T17:24:19.443568",
     "exception": false,
     "start_time": "2023-07-03T17:24:19.014522",
     "status": "completed"
    },
    "tags": []
   },
   "outputs": [
    {
     "data": {
      "image/png": "[encoded data removed]",
      "text/plain": [
       "<Figure size 720x504 with 1 Axes>"
      ]
     },
     "metadata": {
      "needs_background": "light"
     },
     "output_type": "display_data"
    }
   ],
   "source": [
    "# Plotando a curva precisão-recall \n",
    "\n",
    "import matplotlib.pyplot as plt\n",
    "\n",
    "# Plotando a curva precisão-recall\n",
    "plt.figure(figsize=(10, 7))\n",
    "plt.plot(recalls, precisions)\n",
    "plt.xlabel(\"Recalls\")\n",
    "plt.xticks(np.arange(0, 1.1, 0.1))\n",
    "plt.ylabel(\"Precisão\")\n",
    "plt.yticks(np.arange(0, 1.1, 0.1))\n",
    "plt.title(\"Curva Precisão-Recall (Naive Bayes [ORIGINAL] )\")\n",
    "plt.show()\n"
   ]
  },
  {
   "cell_type": "markdown",
   "id": "423ae04b",
   "metadata": {
    "papermill": {
     "duration": 0.068292,
     "end_time": "2023-07-03T17:24:19.581005",
     "exception": false,
     "start_time": "2023-07-03T17:24:19.512713",
     "status": "completed"
    },
    "tags": []
   },
   "source": [
    "# **Aplicando o TFIDF e o Balancemento dos dados**"
   ]
  },
  {
   "cell_type": "code",
   "execution_count": 19,
   "id": "2aae6813",
   "metadata": {
    "execution": {
     "iopub.execute_input": "2023-07-03T17:24:19.723891Z",
     "iopub.status.busy": "2023-07-03T17:24:19.723088Z",
     "iopub.status.idle": "2023-07-03T17:24:19.726760Z",
     "shell.execute_reply": "2023-07-03T17:24:19.727395Z",
     "shell.execute_reply.started": "2023-06-30T19:50:40.369587Z"
    },
    "papermill": {
     "duration": 0.078687,
     "end_time": "2023-07-03T17:24:19.727597",
     "exception": false,
     "start_time": "2023-07-03T17:24:19.648910",
     "status": "completed"
    },
    "tags": []
   },
   "outputs": [],
   "source": [
    "from sklearn.feature_extraction.text import TfidfVectorizer\n",
    "from sklearn.model_selection import train_test_split\n",
    "\n",
    "features_train, features_test, labels_train, labels_test = train_test_split(sms.message, \n",
    "                                                                            sms.label, \n",
    "                                                                            test_size=0.2)"
   ]
  },
  {
   "cell_type": "code",
   "execution_count": 20,
   "id": "6c2566f6",
   "metadata": {
    "execution": {
     "iopub.execute_input": "2023-07-03T17:24:19.870100Z",
     "iopub.status.busy": "2023-07-03T17:24:19.869299Z",
     "iopub.status.idle": "2023-07-03T17:24:20.257291Z",
     "shell.execute_reply": "2023-07-03T17:24:20.257921Z",
     "shell.execute_reply.started": "2023-06-30T19:50:40.381174Z"
    },
    "papermill": {
     "duration": 0.459469,
     "end_time": "2023-07-03T17:24:20.258151",
     "exception": false,
     "start_time": "2023-07-03T17:24:19.798682",
     "status": "completed"
    },
    "tags": []
   },
   "outputs": [],
   "source": [
    "from imblearn.under_sampling import RandomUnderSampler\n",
    "from sklearn.feature_extraction.text import TfidfVectorizer\n",
    "\n",
    "# Dados de texto e rótulos\n",
    "texts = sms['message'].values\n",
    "labels = sms['label'].values\n",
    "\n",
    "# Aplicar undersampling\n",
    "undersampler = RandomUnderSampler(random_state=42)\n",
    "texts_resampled, labels_resampled = undersampler.fit_resample(texts.reshape(-1, 1), labels)\n",
    "\n",
    "# Converter novamente para formato de array unidimensional\n",
    "texts_resampled = texts_resampled.flatten()\n",
    "labels_resampled = labels_resampled.flatten()\n",
    "\n",
    "# Aplicar TF-IDF aos dados de texto resampleados\n",
    "tfidf_vectorizer = TfidfVectorizer()\n",
    "tfidf_matrix = tfidf_vectorizer.fit_transform(texts_resampled)"
   ]
  },
  {
   "cell_type": "code",
   "execution_count": 21,
   "id": "ec5245e7",
   "metadata": {
    "execution": {
     "iopub.execute_input": "2023-07-03T17:24:20.400697Z",
     "iopub.status.busy": "2023-07-03T17:24:20.399853Z",
     "iopub.status.idle": "2023-07-03T17:24:20.409671Z",
     "shell.execute_reply": "2023-07-03T17:24:20.410298Z",
     "shell.execute_reply.started": "2023-06-30T19:50:40.554438Z"
    },
    "papermill": {
     "duration": 0.08398,
     "end_time": "2023-07-03T17:24:20.410509",
     "exception": false,
     "start_time": "2023-07-03T17:24:20.326529",
     "status": "completed"
    },
    "tags": []
   },
   "outputs": [
    {
     "name": "stdout",
     "output_type": "stream",
     "text": [
      "Número de características vetorizadas: 4511\n",
      "Exemplos de características treinadas: ['000', '008704050406', '0089', '0121', '01223585236', '01223585334', '02', '0207', '02072069400']\n"
     ]
    }
   ],
   "source": [
    "trained_features = tfidf_vectorizer.get_feature_names()\n",
    "print(\"Número de características vetorizadas:\", len(trained_features))\n",
    "print(\"Exemplos de características treinadas:\", trained_features[1:10])"
   ]
  },
  {
   "cell_type": "code",
   "execution_count": 22,
   "id": "06269158",
   "metadata": {
    "execution": {
     "iopub.execute_input": "2023-07-03T17:24:20.555026Z",
     "iopub.status.busy": "2023-07-03T17:24:20.553800Z",
     "iopub.status.idle": "2023-07-03T17:24:20.706211Z",
     "shell.execute_reply": "2023-07-03T17:24:20.705384Z",
     "shell.execute_reply.started": "2023-06-30T19:50:40.566732Z"
    },
    "papermill": {
     "duration": 0.226057,
     "end_time": "2023-07-03T17:24:20.706390",
     "exception": false,
     "start_time": "2023-07-03T17:24:20.480333",
     "status": "completed"
    },
    "tags": []
   },
   "outputs": [
    {
     "name": "stdout",
     "output_type": "stream",
     "text": [
      "Shape of dtm_train: (4457, 7687)\n",
      "  (0, 2943)\t0.14593152778083401\n",
      "  (0, 2424)\t0.3350185155567979\n",
      "  (0, 6750)\t0.1235441963047822\n",
      "  (0, 3116)\t0.1718783351137477\n",
      "  (0, 6867)\t0.1005356944755471\n",
      "  (0, 6243)\t0.32044966498831506\n",
      "  (0, 4678)\t0.20853494583919974\n",
      "  (0, 1587)\t0.20676836651448563\n",
      "  (0, 6596)\t0.32044966498831506\n",
      "  (0, 4125)\t0.18574535066038847\n",
      "  (0, 956)\t0.13504953932173958\n",
      "  (0, 4588)\t0.3164690058681743\n",
      "  (0, 1115)\t0.16875434223685293\n",
      "  (0, 1194)\t0.20962859281847648\n",
      "  (0, 5545)\t0.22531787620310925\n",
      "  (0, 7640)\t0.1039208106172553\n",
      "  (0, 7415)\t0.18640678945888137\n",
      "  (0, 4362)\t0.2831257503908611\n",
      "  (0, 6723)\t0.2047347552764402\n",
      "  (0, 877)\t0.27610083035833033\n",
      "  (1, 93)\t0.3334403325444688\n",
      "  (1, 1605)\t0.12702964957633442\n",
      "  (1, 3657)\t0.2648419030952684\n",
      "  (1, 4540)\t0.1881280839752986\n",
      "  (1, 7473)\t0.21597835372883578\n",
      "  (1, 7046)\t0.20322374787684233\n",
      "  (1, 1878)\t0.2125729536464156\n",
      "  (1, 336)\t0.3334403325444688\n",
      "  (1, 7481)\t0.14424702009802368\n",
      "  (1, 5678)\t0.31791689310387605\n",
      "  (1, 2985)\t0.16052998063646282\n",
      "  (1, 4305)\t0.20870243700626828\n",
      "  (1, 1082)\t0.3490312851738033\n",
      "  (1, 5181)\t0.213396329733947\n",
      "  (1, 1630)\t0.13830623539690093\n",
      "  (1, 2951)\t0.25894016532505737\n",
      "  (1, 2420)\t0.18143567209644823\n",
      "  (1, 2943)\t0.1221250195830404\n",
      "  (1, 7640)\t0.17393542334152906\n"
     ]
    }
   ],
   "source": [
    "dtm_train = tfidf_vectorizer.fit_transform(features_train)\n",
    "print(\"Shape of dtm_train:\", dtm_train.shape)\n",
    "print(dtm_train[0:2]) # first two rows of sparse matrix"
   ]
  },
  {
   "cell_type": "code",
   "execution_count": 23,
   "id": "add760de",
   "metadata": {
    "execution": {
     "iopub.execute_input": "2023-07-03T17:24:20.893636Z",
     "iopub.status.busy": "2023-07-03T17:24:20.881199Z",
     "iopub.status.idle": "2023-07-03T17:24:20.903082Z",
     "shell.execute_reply": "2023-07-03T17:24:20.901856Z",
     "shell.execute_reply.started": "2023-06-30T19:50:40.719538Z"
    },
    "papermill": {
     "duration": 0.12238,
     "end_time": "2023-07-03T17:24:20.903325",
     "exception": false,
     "start_time": "2023-07-03T17:24:20.780945",
     "status": "completed"
    },
    "tags": []
   },
   "outputs": [
    {
     "name": "stdout",
     "output_type": "stream",
     "text": [
      "Shape of dtm_test: (1115, 7687)\n"
     ]
    }
   ],
   "source": [
    "dtm_test = tfidf_vectorizer.transform(features_test)\n",
    "print(\"Shape of dtm_test:\", dtm_test.shape)"
   ]
  },
  {
   "cell_type": "markdown",
   "id": "df034697",
   "metadata": {
    "papermill": {
     "duration": 0.069268,
     "end_time": "2023-07-03T17:24:21.052722",
     "exception": false,
     "start_time": "2023-07-03T17:24:20.983454",
     "status": "completed"
    },
    "tags": []
   },
   "source": [
    "# **Multimodal Naive Bayes - TFIDF**"
   ]
  },
  {
   "cell_type": "code",
   "execution_count": 24,
   "id": "76a66656",
   "metadata": {
    "execution": {
     "iopub.execute_input": "2023-07-03T17:24:21.198369Z",
     "iopub.status.busy": "2023-07-03T17:24:21.197567Z",
     "iopub.status.idle": "2023-07-03T17:24:21.200256Z",
     "shell.execute_reply": "2023-07-03T17:24:21.199546Z",
     "shell.execute_reply.started": "2023-06-30T19:50:40.760811Z"
    },
    "papermill": {
     "duration": 0.077698,
     "end_time": "2023-07-03T17:24:21.200416",
     "exception": false,
     "start_time": "2023-07-03T17:24:21.122718",
     "status": "completed"
    },
    "tags": []
   },
   "outputs": [],
   "source": [
    "# Construíndo e avaliando o modelo \n",
    "\n",
    "# Multimodal Naive Bayes \n",
    "# O classificador multimodal Naive Bays é útil para classificar características discretas. \n",
    "# (e.g., número de palavras para classificação de textos). \n",
    "# A distribuição multimodal requer geralmente contadores inteiros como features.\n",
    "\n",
    "# Importando e instanciando o modelo Nayve Bayes Multimodal\n",
    "from sklearn.naive_bayes import MultinomialNB\n",
    "nb = MultinomialNB()"
   ]
  },
  {
   "cell_type": "code",
   "execution_count": 25,
   "id": "36a1dac8",
   "metadata": {
    "execution": {
     "iopub.execute_input": "2023-07-03T17:24:21.344810Z",
     "iopub.status.busy": "2023-07-03T17:24:21.343585Z",
     "iopub.status.idle": "2023-07-03T17:24:21.352374Z",
     "shell.execute_reply": "2023-07-03T17:24:21.351561Z",
     "shell.execute_reply.started": "2023-06-30T19:50:40.767968Z"
    },
    "papermill": {
     "duration": 0.08297,
     "end_time": "2023-07-03T17:24:21.352545",
     "exception": false,
     "start_time": "2023-07-03T17:24:21.269575",
     "status": "completed"
    },
    "tags": []
   },
   "outputs": [
    {
     "data": {
      "text/plain": [
       "MultinomialNB()"
      ]
     },
     "execution_count": 25,
     "metadata": {},
     "output_type": "execute_result"
    }
   ],
   "source": [
    "# Treinando o modelo\n",
    "\n",
    "nb.fit(dtm_train, labels_train)"
   ]
  },
  {
   "cell_type": "code",
   "execution_count": 26,
   "id": "abfe9780",
   "metadata": {
    "execution": {
     "iopub.execute_input": "2023-07-03T17:24:21.499146Z",
     "iopub.status.busy": "2023-07-03T17:24:21.497977Z",
     "iopub.status.idle": "2023-07-03T17:24:21.501397Z",
     "shell.execute_reply": "2023-07-03T17:24:21.500634Z",
     "shell.execute_reply.started": "2023-06-30T19:50:40.786409Z"
    },
    "papermill": {
     "duration": 0.07938,
     "end_time": "2023-07-03T17:24:21.501570",
     "exception": false,
     "start_time": "2023-07-03T17:24:21.422190",
     "status": "completed"
    },
    "tags": []
   },
   "outputs": [],
   "source": [
    "# Fazendo predições\n",
    "\n",
    "nb_labels_pred = nb.predict(dtm_test)"
   ]
  },
  {
   "cell_type": "code",
   "execution_count": 27,
   "id": "56e975ac",
   "metadata": {
    "execution": {
     "iopub.execute_input": "2023-07-03T17:24:21.649444Z",
     "iopub.status.busy": "2023-07-03T17:24:21.648335Z",
     "iopub.status.idle": "2023-07-03T17:24:21.654042Z",
     "shell.execute_reply": "2023-07-03T17:24:21.653389Z",
     "shell.execute_reply.started": "2023-06-30T19:50:40.795322Z"
    },
    "papermill": {
     "duration": 0.081213,
     "end_time": "2023-07-03T17:24:21.654207",
     "exception": false,
     "start_time": "2023-07-03T17:24:21.572994",
     "status": "completed"
    },
    "tags": []
   },
   "outputs": [
    {
     "data": {
      "text/plain": [
       "0.9623318385650225"
      ]
     },
     "execution_count": 27,
     "metadata": {},
     "output_type": "execute_result"
    }
   ],
   "source": [
    "# Acurácia\n",
    "from sklearn import metrics\n",
    "nb2_accuracy = metrics.accuracy_score(labels_test, nb_labels_pred)\n",
    "nb2_accuracy"
   ]
  },
  {
   "cell_type": "code",
   "execution_count": 28,
   "id": "ad7cc762",
   "metadata": {
    "execution": {
     "iopub.execute_input": "2023-07-03T17:24:21.806090Z",
     "iopub.status.busy": "2023-07-03T17:24:21.805145Z",
     "iopub.status.idle": "2023-07-03T17:24:21.808639Z",
     "shell.execute_reply": "2023-07-03T17:24:21.809256Z",
     "shell.execute_reply.started": "2023-06-30T19:50:40.809650Z"
    },
    "papermill": {
     "duration": 0.085,
     "end_time": "2023-07-03T17:24:21.809449",
     "exception": false,
     "start_time": "2023-07-03T17:24:21.724449",
     "status": "completed"
    },
    "tags": []
   },
   "outputs": [
    {
     "data": {
      "text/plain": [
       "array([[971,   0],\n",
       "       [ 42, 102]])"
      ]
     },
     "execution_count": 28,
     "metadata": {},
     "output_type": "execute_result"
    }
   ],
   "source": [
    "# Criando a matrix de confusão para precisão e recall (essas são duas outrss métricas de avaliação) \n",
    "metrics.confusion_matrix(labels_test, nb_labels_pred)"
   ]
  },
  {
   "cell_type": "code",
   "execution_count": 29,
   "id": "d8103b2a",
   "metadata": {
    "execution": {
     "iopub.execute_input": "2023-07-03T17:24:21.958137Z",
     "iopub.status.busy": "2023-07-03T17:24:21.956983Z",
     "iopub.status.idle": "2023-07-03T17:24:21.965144Z",
     "shell.execute_reply": "2023-07-03T17:24:21.964046Z",
     "shell.execute_reply.started": "2023-06-30T19:50:40.826079Z"
    },
    "papermill": {
     "duration": 0.085351,
     "end_time": "2023-07-03T17:24:21.965317",
     "exception": false,
     "start_time": "2023-07-03T17:24:21.879966",
     "status": "completed"
    },
    "tags": []
   },
   "outputs": [
    {
     "name": "stdout",
     "output_type": "stream",
     "text": [
      "Recall: 0.7083333333333334\n",
      "Precisão: 1.0\n"
     ]
    }
   ],
   "source": [
    "# Percentagem do total de spams detectados i.e.recall\n",
    "print(\"Recall:\", metrics.recall_score(labels_test, nb_labels_pred))\n",
    "\n",
    "nb2_precision = metrics.precision_score(labels_test, nb_labels_pred)\n",
    "\n",
    "# Percentagem das predições positivas (spams) corretas, i.e. precisão\n",
    "print(\"Precisão:\", nb2_precision)"
   ]
  },
  {
   "cell_type": "code",
   "execution_count": 30,
   "id": "a5f569ac",
   "metadata": {
    "execution": {
     "iopub.execute_input": "2023-07-03T17:24:22.113306Z",
     "iopub.status.busy": "2023-07-03T17:24:22.112549Z",
     "iopub.status.idle": "2023-07-03T17:24:22.119529Z",
     "shell.execute_reply": "2023-07-03T17:24:22.120125Z",
     "shell.execute_reply.started": "2023-06-30T19:50:40.840337Z"
    },
    "papermill": {
     "duration": 0.082673,
     "end_time": "2023-07-03T17:24:22.120320",
     "exception": false,
     "start_time": "2023-07-03T17:24:22.037647",
     "status": "completed"
    },
    "tags": []
   },
   "outputs": [
    {
     "name": "stdout",
     "output_type": "stream",
     "text": [
      "Ordem das classes no predict_proba: [0 1]\n",
      "Exemplos de probabilidades de classes: [0.99739253 0.00260747]\n"
     ]
    }
   ],
   "source": [
    "print(\"Ordem das classes no predict_proba:\", nb.classes_)\n",
    "print(\"Exemplos de probabilidades de classes:\", nb.predict_proba(dtm_test)[0])\n"
   ]
  },
  {
   "cell_type": "code",
   "execution_count": 31,
   "id": "f4631362",
   "metadata": {
    "execution": {
     "iopub.execute_input": "2023-07-03T17:24:22.270375Z",
     "iopub.status.busy": "2023-07-03T17:24:22.269534Z",
     "iopub.status.idle": "2023-07-03T17:24:22.274423Z",
     "shell.execute_reply": "2023-07-03T17:24:22.273633Z",
     "shell.execute_reply.started": "2023-06-30T19:50:40.854776Z"
    },
    "papermill": {
     "duration": 0.082488,
     "end_time": "2023-07-03T17:24:22.274591",
     "exception": false,
     "start_time": "2023-07-03T17:24:22.192103",
     "status": "completed"
    },
    "tags": []
   },
   "outputs": [],
   "source": [
    "# Uma vez que somente ~15% dos rótulos são positivos (spam), a curva precisão-recall é mais informativa que\n",
    "# a curva ROC\n",
    "\n",
    "nb_labels_prob = nb.predict_proba(dtm_test)[:, 1]\n",
    "precisions, recalls, thresholds = metrics.precision_recall_curve(labels_test, nb_labels_prob)"
   ]
  },
  {
   "cell_type": "code",
   "execution_count": 32,
   "id": "24609fe3",
   "metadata": {
    "execution": {
     "iopub.execute_input": "2023-07-03T17:24:22.492932Z",
     "iopub.status.busy": "2023-07-03T17:24:22.455649Z",
     "iopub.status.idle": "2023-07-03T17:24:22.639466Z",
     "shell.execute_reply": "2023-07-03T17:24:22.638584Z",
     "shell.execute_reply.started": "2023-06-30T19:50:40.864390Z"
    },
    "papermill": {
     "duration": 0.293135,
     "end_time": "2023-07-03T17:24:22.639647",
     "exception": false,
     "start_time": "2023-07-03T17:24:22.346512",
     "status": "completed"
    },
    "tags": []
   },
   "outputs": [
    {
     "data": {
      "image/png": "[encoded data removed]",
      "text/plain": [
       "<Figure size 720x504 with 1 Axes>"
      ]
     },
     "metadata": {
      "needs_background": "light"
     },
     "output_type": "display_data"
    }
   ],
   "source": [
    "import matplotlib.pyplot as plt\n",
    "\n",
    "# precisions, recalls, thresholds = metrics.precision_recall_curve(labels_test, nb_labels_prob)\n",
    "\n",
    "# Plotando a curva precisão-recall\n",
    "plt.figure(figsize=(10, 7))\n",
    "plt.plot(recalls, precisions)\n",
    "plt.xlabel(\"Recalls\")\n",
    "plt.xticks(np.arange(0, 1.1, 0.1))\n",
    "plt.ylabel(\"Precisão\")\n",
    "plt.yticks(np.arange(0, 1.1, 0.1))\n",
    "plt.title(\"Curva Precisão-Recall (Naive Bayes [TFIDF] )\")\n",
    "plt.show()\n"
   ]
  },
  {
   "cell_type": "markdown",
   "id": "e7cafbe2",
   "metadata": {
    "papermill": {
     "duration": 0.075052,
     "end_time": "2023-07-03T17:24:22.790470",
     "exception": false,
     "start_time": "2023-07-03T17:24:22.715418",
     "status": "completed"
    },
    "tags": []
   },
   "source": [
    "# **Random Forest**"
   ]
  },
  {
   "cell_type": "code",
   "execution_count": 33,
   "id": "8c1905a4",
   "metadata": {
    "execution": {
     "iopub.execute_input": "2023-07-03T17:24:22.939759Z",
     "iopub.status.busy": "2023-07-03T17:24:22.938981Z",
     "iopub.status.idle": "2023-07-03T17:24:22.942898Z",
     "shell.execute_reply": "2023-07-03T17:24:22.943490Z",
     "shell.execute_reply.started": "2023-06-30T19:50:41.091990Z"
    },
    "papermill": {
     "duration": 0.080545,
     "end_time": "2023-07-03T17:24:22.943703",
     "exception": false,
     "start_time": "2023-07-03T17:24:22.863158",
     "status": "completed"
    },
    "tags": []
   },
   "outputs": [],
   "source": [
    "# Importando e instanciando o modelo Random Forest\n",
    "from sklearn.ensemble import RandomForestClassifier\n",
    "rf = RandomForestClassifier(n_estimators=200)"
   ]
  },
  {
   "cell_type": "code",
   "execution_count": 34,
   "id": "0ee12803",
   "metadata": {
    "execution": {
     "iopub.execute_input": "2023-07-03T17:24:23.096125Z",
     "iopub.status.busy": "2023-07-03T17:24:23.095232Z",
     "iopub.status.idle": "2023-07-03T17:24:25.732610Z",
     "shell.execute_reply": "2023-07-03T17:24:25.731948Z",
     "shell.execute_reply.started": "2023-06-30T19:50:41.099654Z"
    },
    "papermill": {
     "duration": 2.716391,
     "end_time": "2023-07-03T17:24:25.732798",
     "exception": false,
     "start_time": "2023-07-03T17:24:23.016407",
     "status": "completed"
    },
    "tags": []
   },
   "outputs": [
    {
     "data": {
      "text/plain": [
       "RandomForestClassifier(n_estimators=200)"
      ]
     },
     "execution_count": 34,
     "metadata": {},
     "output_type": "execute_result"
    }
   ],
   "source": [
    "# Treinando o modelo Random Forest\n",
    "rf.fit(dtm_train, labels_train)"
   ]
  },
  {
   "cell_type": "code",
   "execution_count": 35,
   "id": "d4f02aa4",
   "metadata": {
    "execution": {
     "iopub.execute_input": "2023-07-03T17:24:25.890017Z",
     "iopub.status.busy": "2023-07-03T17:24:25.888892Z",
     "iopub.status.idle": "2023-07-03T17:24:25.986813Z",
     "shell.execute_reply": "2023-07-03T17:24:25.987386Z",
     "shell.execute_reply.started": "2023-06-30T19:50:43.916585Z"
    },
    "papermill": {
     "duration": 0.177864,
     "end_time": "2023-07-03T17:24:25.987611",
     "exception": false,
     "start_time": "2023-07-03T17:24:25.809747",
     "status": "completed"
    },
    "tags": []
   },
   "outputs": [],
   "source": [
    "# Fazendo predições com o modelo Random Forest\n",
    "rf_labels_pred = rf.predict(dtm_test)"
   ]
  },
  {
   "cell_type": "code",
   "execution_count": 36,
   "id": "4778742a",
   "metadata": {
    "execution": {
     "iopub.execute_input": "2023-07-03T17:24:26.138389Z",
     "iopub.status.busy": "2023-07-03T17:24:26.136260Z",
     "iopub.status.idle": "2023-07-03T17:24:26.142505Z",
     "shell.execute_reply": "2023-07-03T17:24:26.143057Z",
     "shell.execute_reply.started": "2023-06-30T19:50:44.025104Z"
    },
    "papermill": {
     "duration": 0.08302,
     "end_time": "2023-07-03T17:24:26.143261",
     "exception": false,
     "start_time": "2023-07-03T17:24:26.060241",
     "status": "completed"
    },
    "tags": []
   },
   "outputs": [],
   "source": [
    "# Avaliando o modelo Random Forest\n",
    "rf_accuracy = metrics.accuracy_score(labels_test, rf_labels_pred)\n",
    "rf_precision = metrics.precision_score(labels_test, rf_labels_pred)"
   ]
  },
  {
   "cell_type": "code",
   "execution_count": 37,
   "id": "27674e4d",
   "metadata": {
    "execution": {
     "iopub.execute_input": "2023-07-03T17:24:26.296563Z",
     "iopub.status.busy": "2023-07-03T17:24:26.295701Z",
     "iopub.status.idle": "2023-07-03T17:24:26.300969Z",
     "shell.execute_reply": "2023-07-03T17:24:26.300264Z",
     "shell.execute_reply.started": "2023-06-30T19:50:44.033634Z"
    },
    "papermill": {
     "duration": 0.084539,
     "end_time": "2023-07-03T17:24:26.301149",
     "exception": false,
     "start_time": "2023-07-03T17:24:26.216610",
     "status": "completed"
    },
    "tags": []
   },
   "outputs": [
    {
     "name": "stdout",
     "output_type": "stream",
     "text": [
      "Random Forest Accuracy: 0.9730941704035875\n",
      "Random Forest Precision: 1.0\n"
     ]
    }
   ],
   "source": [
    "# Imprimindo as métricas do modelo Random Forest\n",
    "print(\"Random Forest Accuracy:\", rf_accuracy)\n",
    "print(\"Random Forest Precision:\", rf_precision)"
   ]
  },
  {
   "cell_type": "code",
   "execution_count": 38,
   "id": "e68ba04a",
   "metadata": {
    "execution": {
     "iopub.execute_input": "2023-07-03T17:24:26.456451Z",
     "iopub.status.busy": "2023-07-03T17:24:26.455630Z",
     "iopub.status.idle": "2023-07-03T17:24:26.555495Z",
     "shell.execute_reply": "2023-07-03T17:24:26.554828Z",
     "shell.execute_reply.started": "2023-06-30T19:50:44.045983Z"
    },
    "papermill": {
     "duration": 0.179059,
     "end_time": "2023-07-03T17:24:26.555681",
     "exception": false,
     "start_time": "2023-07-03T17:24:26.376622",
     "status": "completed"
    },
    "tags": []
   },
   "outputs": [],
   "source": [
    "# Obtendo as probabilidades das predições do modelo Random Forest\n",
    "rf_labels_prob = rf.predict_proba(dtm_test)[:, 1]\n",
    "rf_precisions, rf_recalls, rf_thresholds = metrics.precision_recall_curve(labels_test, rf_labels_prob)"
   ]
  },
  {
   "cell_type": "code",
   "execution_count": 39,
   "id": "00a269f5",
   "metadata": {
    "execution": {
     "iopub.execute_input": "2023-07-03T17:24:26.706133Z",
     "iopub.status.busy": "2023-07-03T17:24:26.705075Z",
     "iopub.status.idle": "2023-07-03T17:24:26.923395Z",
     "shell.execute_reply": "2023-07-03T17:24:26.922615Z",
     "shell.execute_reply.started": "2023-06-30T19:50:44.164913Z"
    },
    "papermill": {
     "duration": 0.294451,
     "end_time": "2023-07-03T17:24:26.923558",
     "exception": false,
     "start_time": "2023-07-03T17:24:26.629107",
     "status": "completed"
    },
    "tags": []
   },
   "outputs": [
    {
     "data": {
      "image/png": "[encoded data removed]",
      "text/plain": [
       "<Figure size 720x504 with 1 Axes>"
      ]
     },
     "metadata": {
      "needs_background": "light"
     },
     "output_type": "display_data"
    }
   ],
   "source": [
    "# Plotando a curva precisão-recall para o modelo Random Forest\n",
    "plt.figure(figsize=(10, 7))\n",
    "plt.plot(rf_recalls[:-1], rf_precisions[:-1])\n",
    "plt.xlabel(\"Recalls\")\n",
    "plt.xticks(np.arange(0, 1.1, 0.1))\n",
    "plt.ylabel(\"Precisão\")\n",
    "plt.yticks(np.arange(0, 1.1, 0.1))\n",
    "plt.title(\"Curva Precisão-Recall (Random Forest)\")\n",
    "plt.show()"
   ]
  },
  {
   "cell_type": "markdown",
   "id": "4ca44cd8",
   "metadata": {
    "papermill": {
     "duration": 0.073543,
     "end_time": "2023-07-03T17:24:27.072018",
     "exception": false,
     "start_time": "2023-07-03T17:24:26.998475",
     "status": "completed"
    },
    "tags": []
   },
   "source": [
    "# **Support Vector Machines**\n"
   ]
  },
  {
   "cell_type": "code",
   "execution_count": 40,
   "id": "47258e5a",
   "metadata": {
    "execution": {
     "iopub.execute_input": "2023-07-03T17:24:27.224822Z",
     "iopub.status.busy": "2023-07-03T17:24:27.223635Z",
     "iopub.status.idle": "2023-07-03T17:24:27.228001Z",
     "shell.execute_reply": "2023-07-03T17:24:27.228641Z",
     "shell.execute_reply.started": "2023-06-30T19:50:44.388242Z"
    },
    "papermill": {
     "duration": 0.082608,
     "end_time": "2023-07-03T17:24:27.228866",
     "exception": false,
     "start_time": "2023-07-03T17:24:27.146258",
     "status": "completed"
    },
    "tags": []
   },
   "outputs": [],
   "source": [
    "# Importando e instanciando o modelo Support Vector Machines\n",
    "from sklearn.svm import SVC\n",
    "svm = SVC()"
   ]
  },
  {
   "cell_type": "code",
   "execution_count": 41,
   "id": "fcccdab7",
   "metadata": {
    "execution": {
     "iopub.execute_input": "2023-07-03T17:24:27.382571Z",
     "iopub.status.busy": "2023-07-03T17:24:27.381378Z",
     "iopub.status.idle": "2023-07-03T17:24:28.963136Z",
     "shell.execute_reply": "2023-07-03T17:24:28.962391Z",
     "shell.execute_reply.started": "2023-06-30T19:50:44.396036Z"
    },
    "papermill": {
     "duration": 1.659183,
     "end_time": "2023-07-03T17:24:28.963297",
     "exception": false,
     "start_time": "2023-07-03T17:24:27.304114",
     "status": "completed"
    },
    "tags": []
   },
   "outputs": [
    {
     "data": {
      "text/plain": [
       "SVC()"
      ]
     },
     "execution_count": 41,
     "metadata": {},
     "output_type": "execute_result"
    }
   ],
   "source": [
    "# Treinando o modelo SVM\n",
    "svm.fit(dtm_train, labels_train)"
   ]
  },
  {
   "cell_type": "code",
   "execution_count": 42,
   "id": "0f1b1934",
   "metadata": {
    "execution": {
     "iopub.execute_input": "2023-07-03T17:24:29.120561Z",
     "iopub.status.busy": "2023-07-03T17:24:29.119764Z",
     "iopub.status.idle": "2023-07-03T17:24:29.441943Z",
     "shell.execute_reply": "2023-07-03T17:24:29.441228Z",
     "shell.execute_reply.started": "2023-06-30T19:50:46.031856Z"
    },
    "papermill": {
     "duration": 0.402791,
     "end_time": "2023-07-03T17:24:29.442135",
     "exception": false,
     "start_time": "2023-07-03T17:24:29.039344",
     "status": "completed"
    },
    "tags": []
   },
   "outputs": [],
   "source": [
    "# Fazendo predições para o modelo SVM\n",
    "svm_labels_pred = svm.predict(dtm_test)"
   ]
  },
  {
   "cell_type": "code",
   "execution_count": 43,
   "id": "e6b915b0",
   "metadata": {
    "execution": {
     "iopub.execute_input": "2023-07-03T17:24:29.597095Z",
     "iopub.status.busy": "2023-07-03T17:24:29.596301Z",
     "iopub.status.idle": "2023-07-03T17:24:29.600300Z",
     "shell.execute_reply": "2023-07-03T17:24:29.600920Z",
     "shell.execute_reply.started": "2023-06-30T19:50:46.359738Z"
    },
    "papermill": {
     "duration": 0.084484,
     "end_time": "2023-07-03T17:24:29.601127",
     "exception": false,
     "start_time": "2023-07-03T17:24:29.516643",
     "status": "completed"
    },
    "tags": []
   },
   "outputs": [],
   "source": [
    "# Avaliando o modelo SVM\n",
    "svm_accuracy = metrics.accuracy_score(labels_test, svm_labels_pred)\n",
    "svm_precision = metrics.precision_score(labels_test, svm_labels_pred)"
   ]
  },
  {
   "cell_type": "code",
   "execution_count": 44,
   "id": "0ee525d4",
   "metadata": {
    "execution": {
     "iopub.execute_input": "2023-07-03T17:24:29.755524Z",
     "iopub.status.busy": "2023-07-03T17:24:29.754780Z",
     "iopub.status.idle": "2023-07-03T17:24:29.761022Z",
     "shell.execute_reply": "2023-07-03T17:24:29.761599Z",
     "shell.execute_reply.started": "2023-06-30T19:50:46.371310Z"
    },
    "papermill": {
     "duration": 0.086266,
     "end_time": "2023-07-03T17:24:29.761830",
     "exception": false,
     "start_time": "2023-07-03T17:24:29.675564",
     "status": "completed"
    },
    "tags": []
   },
   "outputs": [
    {
     "name": "stdout",
     "output_type": "stream",
     "text": [
      "SVM Accuracy: 0.9820627802690582\n",
      "SVM Precision: 0.9920634920634921\n"
     ]
    }
   ],
   "source": [
    "# Imprimindo as métricas do modelo SVM\n",
    "print(\"SVM Accuracy:\", svm_accuracy)\n",
    "print(\"SVM Precision:\", svm_precision)"
   ]
  },
  {
   "cell_type": "code",
   "execution_count": 45,
   "id": "1992840b",
   "metadata": {
    "execution": {
     "iopub.execute_input": "2023-07-03T17:24:30.246423Z",
     "iopub.status.busy": "2023-07-03T17:24:30.245215Z",
     "iopub.status.idle": "2023-07-03T17:24:30.249788Z",
     "shell.execute_reply": "2023-07-03T17:24:30.249030Z",
     "shell.execute_reply.started": "2023-06-30T19:50:46.381324Z"
    },
    "papermill": {
     "duration": 0.409721,
     "end_time": "2023-07-03T17:24:30.249956",
     "exception": false,
     "start_time": "2023-07-03T17:24:29.840235",
     "status": "completed"
    },
    "tags": []
   },
   "outputs": [],
   "source": [
    "# Obtendo as probabilidades das predições do modelo SVM\n",
    "svm_labels_prob = svm.decision_function(dtm_test)\n",
    "svm_precisions, svm_recalls, svm_thresholds = metrics.precision_recall_curve(labels_test, svm_labels_prob)"
   ]
  },
  {
   "cell_type": "code",
   "execution_count": 46,
   "id": "b9ce1be4",
   "metadata": {
    "execution": {
     "iopub.execute_input": "2023-07-03T17:24:30.472692Z",
     "iopub.status.busy": "2023-07-03T17:24:30.471469Z",
     "iopub.status.idle": "2023-07-03T17:24:30.621435Z",
     "shell.execute_reply": "2023-07-03T17:24:30.620819Z",
     "shell.execute_reply.started": "2023-06-30T19:50:46.719852Z"
    },
    "papermill": {
     "duration": 0.296372,
     "end_time": "2023-07-03T17:24:30.621593",
     "exception": false,
     "start_time": "2023-07-03T17:24:30.325221",
     "status": "completed"
    },
    "tags": []
   },
   "outputs": [
    {
     "data": {
      "image/png": "[encoded data removed]",
      "text/plain": [
       "<Figure size 720x504 with 1 Axes>"
      ]
     },
     "metadata": {
      "needs_background": "light"
     },
     "output_type": "display_data"
    }
   ],
   "source": [
    "# Plotando a curva precisão-recall para o modelo SVM\n",
    "plt.figure(figsize=(10, 7))\n",
    "plt.plot(svm_recalls[:-1], svm_precisions[:-1])\n",
    "plt.xlabel(\"Recalls\")\n",
    "plt.xticks(np.arange(0, 1.1, 0.1))\n",
    "plt.ylabel(\"Precisão\")\n",
    "plt.yticks(np.arange(0, 1.1, 0.1))\n",
    "plt.title(\"Curva Precisão-Recall\")\n",
    "plt.legend()\n",
    "plt.show()"
   ]
  },
  {
   "cell_type": "markdown",
   "id": "3e225750",
   "metadata": {
    "papermill": {
     "duration": 0.075691,
     "end_time": "2023-07-03T17:24:30.773755",
     "exception": false,
     "start_time": "2023-07-03T17:24:30.698064",
     "status": "completed"
    },
    "tags": []
   },
   "source": [
    "# **Multi-layer Perceptron Classifier**"
   ]
  },
  {
   "cell_type": "code",
   "execution_count": 47,
   "id": "f2ad4157",
   "metadata": {
    "execution": {
     "iopub.execute_input": "2023-07-03T17:24:30.952342Z",
     "iopub.status.busy": "2023-07-03T17:24:30.950053Z",
     "iopub.status.idle": "2023-07-03T17:24:30.962610Z",
     "shell.execute_reply": "2023-07-03T17:24:30.963353Z",
     "shell.execute_reply.started": "2023-06-30T19:50:46.953492Z"
    },
    "papermill": {
     "duration": 0.111577,
     "end_time": "2023-07-03T17:24:30.963573",
     "exception": false,
     "start_time": "2023-07-03T17:24:30.851996",
     "status": "completed"
    },
    "tags": []
   },
   "outputs": [],
   "source": [
    "# Importando e instanciando o modelo Multi-layer Perceptron Classifier\n",
    "from sklearn.neural_network import MLPClassifier\n",
    "\n",
    "# Criando o modelo de Multi-layer Perceptron Classifier\n",
    "nn = MLPClassifier(hidden_layer_sizes=(150, 100), max_iter=100)"
   ]
  },
  {
   "cell_type": "code",
   "execution_count": 48,
   "id": "23b095d8",
   "metadata": {
    "execution": {
     "iopub.execute_input": "2023-07-03T17:24:31.121700Z",
     "iopub.status.busy": "2023-07-03T17:24:31.120894Z",
     "iopub.status.idle": "2023-07-03T17:25:01.663909Z",
     "shell.execute_reply": "2023-07-03T17:25:01.664765Z",
     "shell.execute_reply.started": "2023-06-30T19:50:46.965062Z"
    },
    "papermill": {
     "duration": 30.625587,
     "end_time": "2023-07-03T17:25:01.665001",
     "exception": false,
     "start_time": "2023-07-03T17:24:31.039414",
     "status": "completed"
    },
    "tags": []
   },
   "outputs": [
    {
     "data": {
      "text/plain": [
       "MLPClassifier(hidden_layer_sizes=(150, 100), max_iter=100)"
      ]
     },
     "execution_count": 48,
     "metadata": {},
     "output_type": "execute_result"
    }
   ],
   "source": [
    "# Treinando o modelo\n",
    "nn.fit(dtm_train, labels_train)"
   ]
  },
  {
   "cell_type": "code",
   "execution_count": 49,
   "id": "8ed78900",
   "metadata": {
    "execution": {
     "iopub.execute_input": "2023-07-03T17:25:01.834257Z",
     "iopub.status.busy": "2023-07-03T17:25:01.832606Z",
     "iopub.status.idle": "2023-07-03T17:25:01.842706Z",
     "shell.execute_reply": "2023-07-03T17:25:01.843961Z",
     "shell.execute_reply.started": "2023-06-30T19:51:16.225673Z"
    },
    "papermill": {
     "duration": 0.095408,
     "end_time": "2023-07-03T17:25:01.844323",
     "exception": false,
     "start_time": "2023-07-03T17:25:01.748915",
     "status": "completed"
    },
    "tags": []
   },
   "outputs": [],
   "source": [
    "# Fazendo predições para o modelo de Multi-layer Perceptron Classifier\n",
    "nn_labels_pred = nn.predict(dtm_test)"
   ]
  },
  {
   "cell_type": "code",
   "execution_count": 50,
   "id": "a1af8929",
   "metadata": {
    "execution": {
     "iopub.execute_input": "2023-07-03T17:25:02.068703Z",
     "iopub.status.busy": "2023-07-03T17:25:02.067890Z",
     "iopub.status.idle": "2023-07-03T17:25:02.073184Z",
     "shell.execute_reply": "2023-07-03T17:25:02.072578Z",
     "shell.execute_reply.started": "2023-06-30T19:51:16.256629Z"
    },
    "papermill": {
     "duration": 0.091947,
     "end_time": "2023-07-03T17:25:02.073350",
     "exception": false,
     "start_time": "2023-07-03T17:25:01.981403",
     "status": "completed"
    },
    "tags": []
   },
   "outputs": [],
   "source": [
    "# Avaliando o modelo de Multi-layer Perceptron Classifier\n",
    "nn_accuracy = metrics.accuracy_score(labels_test, nn_labels_pred)\n",
    "nn_precision = metrics.precision_score(labels_test, nn_labels_pred)"
   ]
  },
  {
   "cell_type": "code",
   "execution_count": 51,
   "id": "5c4228f7",
   "metadata": {
    "execution": {
     "iopub.execute_input": "2023-07-03T17:25:02.231580Z",
     "iopub.status.busy": "2023-07-03T17:25:02.229131Z",
     "iopub.status.idle": "2023-07-03T17:25:02.235221Z",
     "shell.execute_reply": "2023-07-03T17:25:02.235863Z",
     "shell.execute_reply.started": "2023-06-30T19:51:16.283133Z"
    },
    "papermill": {
     "duration": 0.086172,
     "end_time": "2023-07-03T17:25:02.236059",
     "exception": false,
     "start_time": "2023-07-03T17:25:02.149887",
     "status": "completed"
    },
    "tags": []
   },
   "outputs": [
    {
     "name": "stdout",
     "output_type": "stream",
     "text": [
      "Multi-layer Perceptron Classifier: 0.9829596412556054\n",
      "Multi-layer Perceptron Classifier: 0.9770992366412213\n"
     ]
    }
   ],
   "source": [
    "# Imprimindo as métricas do modelo de Multi-layer Perceptron Classifier\n",
    "print(\"Multi-layer Perceptron Classifier:\", nn_accuracy)\n",
    "print(\"Multi-layer Perceptron Classifier:\", nn_precision)"
   ]
  },
  {
   "cell_type": "code",
   "execution_count": 52,
   "id": "f3bdf43b",
   "metadata": {
    "execution": {
     "iopub.execute_input": "2023-07-03T17:25:02.392898Z",
     "iopub.status.busy": "2023-07-03T17:25:02.392136Z",
     "iopub.status.idle": "2023-07-03T17:25:02.410411Z",
     "shell.execute_reply": "2023-07-03T17:25:02.411440Z",
     "shell.execute_reply.started": "2023-06-30T19:51:16.307111Z"
    },
    "papermill": {
     "duration": 0.098917,
     "end_time": "2023-07-03T17:25:02.411829",
     "exception": false,
     "start_time": "2023-07-03T17:25:02.312912",
     "status": "completed"
    },
    "tags": []
   },
   "outputs": [],
   "source": [
    "# Obtendo as probabilidades das predições do modelo de Multi-layer Perceptron Classifier\n",
    "nn_labels_prob = nn.predict_proba(dtm_test)[:, 1]\n",
    "nn_precisions, nn_recalls, nn_thresholds = metrics.precision_recall_curve(labels_test, nn_labels_prob)"
   ]
  },
  {
   "cell_type": "code",
   "execution_count": 53,
   "id": "d43930a6",
   "metadata": {
    "execution": {
     "iopub.execute_input": "2023-07-03T17:25:02.631993Z",
     "iopub.status.busy": "2023-07-03T17:25:02.631193Z",
     "iopub.status.idle": "2023-07-03T17:25:02.853415Z",
     "shell.execute_reply": "2023-07-03T17:25:02.853979Z",
     "shell.execute_reply.started": "2023-06-30T19:51:16.344728Z"
    },
    "papermill": {
     "duration": 0.307102,
     "end_time": "2023-07-03T17:25:02.854181",
     "exception": false,
     "start_time": "2023-07-03T17:25:02.547079",
     "status": "completed"
    },
    "tags": []
   },
   "outputs": [
    {
     "data": {
      "image/png": "[encoded data removed]",
      "text/plain": [
       "<Figure size 720x504 with 1 Axes>"
      ]
     },
     "metadata": {
      "needs_background": "light"
     },
     "output_type": "display_data"
    }
   ],
   "source": [
    "# Plotando a curva precisão-recall para o modelo de Multi-layer Perceptron Classifier\n",
    "plt.figure(figsize=(10, 7))\n",
    "plt.plot(nn_recalls[:-1], nn_precisions[:-1], label='Multi-layer Perceptron Classifier')\n",
    "plt.xlabel(\"Recalls\")\n",
    "plt.xticks(np.arange(0, 1.1, 0.1))\n",
    "plt.ylabel(\"Precisão\")\n",
    "plt.yticks(np.arange(0, 1.1, 0.1))\n",
    "plt.title(\"Curva Precisão-Recall\")\n",
    "plt.legend()\n",
    "plt.show()"
   ]
  },
  {
   "cell_type": "markdown",
   "id": "91b61606",
   "metadata": {
    "papermill": {
     "duration": 0.078365,
     "end_time": "2023-07-03T17:25:03.011870",
     "exception": false,
     "start_time": "2023-07-03T17:25:02.933505",
     "status": "completed"
    },
    "tags": []
   },
   "source": [
    "# **Comparação dos metodos**"
   ]
  },
  {
   "cell_type": "code",
   "execution_count": 54,
   "id": "324536c9",
   "metadata": {
    "execution": {
     "iopub.execute_input": "2023-07-03T17:25:03.179775Z",
     "iopub.status.busy": "2023-07-03T17:25:03.178863Z",
     "iopub.status.idle": "2023-07-03T17:25:03.492675Z",
     "shell.execute_reply": "2023-07-03T17:25:03.492011Z",
     "shell.execute_reply.started": "2023-06-30T19:51:16.639218Z"
    },
    "papermill": {
     "duration": 0.400775,
     "end_time": "2023-07-03T17:25:03.492839",
     "exception": false,
     "start_time": "2023-07-03T17:25:03.092064",
     "status": "completed"
    },
    "tags": []
   },
   "outputs": [
    {
     "data": {
      "image/png": "[encoded data removed]",
      "text/plain": [
       "<Figure size 720x504 with 1 Axes>"
      ]
     },
     "metadata": {},
     "output_type": "display_data"
    }
   ],
   "source": [
    "import matplotlib.pyplot as plt\n",
    "import numpy as np\n",
    "from sklearn import metrics\n",
    "\n",
    "# Definindo as cores para cada modelo\n",
    "colors = ['black','blue', 'green', 'red', 'purple']\n",
    "\n",
    "# Definindo o estilo dos gráficos\n",
    "plt.style.use('seaborn-whitegrid')\n",
    "\n",
    "# Avaliando os modelos e armazenando as métricas\n",
    "model_names = ['Multimodal Naive Bayes - [Original]', 'Multi-layer Perceptron Classifier', 'SVM', 'Random Forest', 'Multimodal Naive Bayes - [TFIDF]']\n",
    "models = [nb_labels_prob, nn_labels_prob, svm_labels_prob, rf_labels_prob, nb_labels_prob]\n",
    "\n",
    "# Plotando as curvas precisão-recall para todos os modelos juntos\n",
    "plt.figure(figsize=(10, 7))\n",
    "for i in range(len(model_names)):\n",
    "    precision, recall, _ = metrics.precision_recall_curve(labels_test, models[i])\n",
    "    plt.plot(recall[:-1], precision[:-1], label=model_names[i], color=colors[i])\n",
    "\n",
    "plt.xlabel(\"Recall\")\n",
    "plt.ylabel(\"Precisão\")\n",
    "plt.title(\"Curva Precisão-Recall para Todos os Modelos\")\n",
    "plt.legend()\n",
    "plt.show()\n"
   ]
  },
  {
   "cell_type": "code",
   "execution_count": 55,
   "id": "16674dfe",
   "metadata": {
    "execution": {
     "iopub.execute_input": "2023-07-03T17:25:03.663107Z",
     "iopub.status.busy": "2023-07-03T17:25:03.660163Z",
     "iopub.status.idle": "2023-07-03T17:25:03.756772Z",
     "shell.execute_reply": "2023-07-03T17:25:03.756109Z",
     "shell.execute_reply.started": "2023-06-30T19:51:16.908491Z"
    },
    "papermill": {
     "duration": 0.184441,
     "end_time": "2023-07-03T17:25:03.756955",
     "exception": false,
     "start_time": "2023-07-03T17:25:03.572514",
     "status": "completed"
    },
    "tags": []
   },
   "outputs": [
    {
     "data": {
      "text/html": [
       "<style type=\"text/css\">\n",
       "#T_cb87b_ th {\n",
       "  font-weight: bold;\n",
       "  background-color: #f2f2f2;\n",
       "}\n",
       "#T_cb87b_row0_col0, #T_cb87b_row0_col1, #T_cb87b_row0_col2, #T_cb87b_row1_col0, #T_cb87b_row1_col1, #T_cb87b_row1_col2, #T_cb87b_row2_col0, #T_cb87b_row2_col1, #T_cb87b_row2_col2, #T_cb87b_row3_col0, #T_cb87b_row3_col1, #T_cb87b_row3_col2, #T_cb87b_row4_col0, #T_cb87b_row4_col1, #T_cb87b_row4_col2 {\n",
       "  border-color: black;\n",
       "  border-style: solid;\n",
       "  border-width: 1px;\n",
       "}\n",
       "</style>\n",
       "<table id=\"T_cb87b_\" style=\"margin-left: auto; margin-right: auto; border-collapse: collapse; border: 1px solid black;\">\n",
       "  <thead>\n",
       "    <tr>\n",
       "      <th class=\"blank level0\" >&nbsp;</th>\n",
       "      <th class=\"col_heading level0 col0\" >Acurácia</th>\n",
       "      <th class=\"col_heading level0 col1\" >Precisão</th>\n",
       "      <th class=\"col_heading level0 col2\" >Recall</th>\n",
       "    </tr>\n",
       "  </thead>\n",
       "  <tbody>\n",
       "    <tr>\n",
       "      <th id=\"T_cb87b_level0_row0\" class=\"row_heading level0 row0\" >Multimodal Naive Bayes [Original]</th>\n",
       "      <td id=\"T_cb87b_row0_col0\" class=\"data row0 col0\" >0.982063</td>\n",
       "      <td id=\"T_cb87b_row0_col1\" class=\"data row0 col1\" >0.957447</td>\n",
       "      <td id=\"T_cb87b_row0_col2\" class=\"data row0 col2\" >0.138889</td>\n",
       "    </tr>\n",
       "    <tr>\n",
       "      <th id=\"T_cb87b_level0_row1\" class=\"row_heading level0 row1\" >Multimodal Naive Bayes [TFIDF]</th>\n",
       "      <td id=\"T_cb87b_row1_col0\" class=\"data row1 col0\" >0.962332</td>\n",
       "      <td id=\"T_cb87b_row1_col1\" class=\"data row1 col1\" >1.000000</td>\n",
       "      <td id=\"T_cb87b_row1_col2\" class=\"data row1 col2\" >0.708333</td>\n",
       "    </tr>\n",
       "    <tr>\n",
       "      <th id=\"T_cb87b_level0_row2\" class=\"row_heading level0 row2\" >Random Forest</th>\n",
       "      <td id=\"T_cb87b_row2_col0\" class=\"data row2 col0\" >0.973094</td>\n",
       "      <td id=\"T_cb87b_row2_col1\" class=\"data row2 col1\" >1.000000</td>\n",
       "      <td id=\"T_cb87b_row2_col2\" class=\"data row2 col2\" >0.868056</td>\n",
       "    </tr>\n",
       "    <tr>\n",
       "      <th id=\"T_cb87b_level0_row3\" class=\"row_heading level0 row3\" >Support Vector Machines</th>\n",
       "      <td id=\"T_cb87b_row3_col0\" class=\"data row3 col0\" >0.982063</td>\n",
       "      <td id=\"T_cb87b_row3_col1\" class=\"data row3 col1\" >0.992063</td>\n",
       "      <td id=\"T_cb87b_row3_col2\" class=\"data row3 col2\" >0.791667</td>\n",
       "    </tr>\n",
       "    <tr>\n",
       "      <th id=\"T_cb87b_level0_row4\" class=\"row_heading level0 row4\" >Multi-layer Perceptron Classifier</th>\n",
       "      <td id=\"T_cb87b_row4_col0\" class=\"data row4 col0\" >0.982960</td>\n",
       "      <td id=\"T_cb87b_row4_col1\" class=\"data row4 col1\" >0.977099</td>\n",
       "      <td id=\"T_cb87b_row4_col2\" class=\"data row4 col2\" >0.888889</td>\n",
       "    </tr>\n",
       "  </tbody>\n",
       "</table>\n"
      ],
      "text/plain": [
       "<pandas.io.formats.style.Styler at 0x792a6fdf1a90>"
      ]
     },
     "execution_count": 55,
     "metadata": {},
     "output_type": "execute_result"
    }
   ],
   "source": [
    "import pandas as pd\n",
    "from sklearn import metrics\n",
    "\n",
    "data = [\n",
    "    {'Acurácia': nb_accuracy,'Precisão': nb_precision, 'Recall': metrics.recall_score(labels_test, labels_pred)},\n",
    "    {'Acurácia': nb2_accuracy,'Precisão': nb2_precision, 'Recall': metrics.recall_score(labels_test, nb_labels_pred)},\n",
    "    {'Acurácia': rf_accuracy, 'Precisão': rf_precision, 'Recall': metrics.recall_score(labels_test, svm_labels_pred)},\n",
    "    {'Acurácia': svm_accuracy, 'Precisão': svm_precision, 'Recall': metrics.recall_score(labels_test, rf_labels_pred)},\n",
    "    {'Acurácia': nn_accuracy, 'Precisão': nn_precision, 'Recall': metrics.recall_score(labels_test, nn_labels_pred)}\n",
    "]\n",
    "\n",
    "model_names = ['Multimodal Naive Bayes [Original]', 'Multimodal Naive Bayes [TFIDF]', 'Random Forest', 'Support Vector Machines', 'Multi-layer Perceptron Classifier']\n",
    "\n",
    "\n",
    "# Criação do DataFrame\n",
    "df = pd.DataFrame(data, index=model_names)\n",
    "\n",
    "# Estilização do DataFrame\n",
    "styled_df = (\n",
    "    df.style\n",
    "    .set_properties(**{'border-color': 'black', 'border-style': 'solid', 'border-width': '1px'})\n",
    "    .set_table_styles([{'selector': 'th', 'props': [('font-weight', 'bold'), ('background-color', '#f2f2f2')]}])\n",
    "    .set_table_attributes('style=\"margin-left: auto; margin-right: auto; border-collapse: collapse; border: 1px solid black;\"')\n",
    ")\n",
    "\n",
    "# Exibição do DataFrame estilizado\n",
    "styled_df"
   ]
  },
  {
   "cell_type": "code",
   "execution_count": 56,
   "id": "4c4e829c",
   "metadata": {
    "execution": {
     "iopub.execute_input": "2023-07-03T17:25:03.928081Z",
     "iopub.status.busy": "2023-07-03T17:25:03.927112Z",
     "iopub.status.idle": "2023-07-03T17:25:03.930810Z",
     "shell.execute_reply": "2023-07-03T17:25:03.931380Z",
     "shell.execute_reply.started": "2023-06-30T19:51:17.008816Z"
    },
    "papermill": {
     "duration": 0.094506,
     "end_time": "2023-07-03T17:25:03.931577",
     "exception": false,
     "start_time": "2023-07-03T17:25:03.837071",
     "status": "completed"
    },
    "tags": []
   },
   "outputs": [
    {
     "name": "stdout",
     "output_type": "stream",
     "text": [
      "Modelo com maior acurácia: Multi-layer Perceptron Classifier\n",
      "Modelo com maior precisão: Multimodal Naive Bayes [TFIDF]\n",
      "Modelo com maior recall: Multi-layer Perceptron Classifier\n",
      "Modelo com melhor resultado em geral: Multi-layer Perceptron Classifier\n"
     ]
    }
   ],
   "source": [
    "# Encontrar a Modelo com a maior acurácia\n",
    "maior_acuracia = df['Acurácia'].idxmax()\n",
    "\n",
    "# Encontrar a Modelo com a maior precisão\n",
    "maior_precisao = df['Precisão'].idxmax()\n",
    "\n",
    "# Encontrar a Modelo com o maior recall\n",
    "maior_recall = df['Recall'].idxmax()\n",
    "\n",
    "# Encontrar o modelo com o melhor resultado em geral (média das métricas)\n",
    "df['Média'] = df.mean(axis=1)\n",
    "melhor_resultado_geral = df['Média'].idxmax()\n",
    "\n",
    "# Imprimir os resultados\n",
    "print(f'Modelo com maior acurácia: {maior_acuracia}')\n",
    "print(f'Modelo com maior precisão: {maior_precisao}')\n",
    "print(f'Modelo com maior recall: {maior_recall}')\n",
    "print(f'Modelo com melhor resultado em geral: {melhor_resultado_geral}')\n"
   ]
  },
  {
   "cell_type": "markdown",
   "id": "cc258015",
   "metadata": {
    "papermill": {
     "duration": 0.08058,
     "end_time": "2023-07-03T17:25:04.092319",
     "exception": false,
     "start_time": "2023-07-03T17:25:04.011739",
     "status": "completed"
    },
    "tags": []
   },
   "source": [
    "# **Resultados**\n",
    "\n",
    "\n",
    "Neste trabalho, foi proposto que se apresentasse uma forma de melhorar a classificação dos dados propostos nesta base de dados. Como inicialmente já havia um resultado extremamente robusto, tendo uma acurácia já superior a 98%, encontrar formas de aumentar este resultado é estatisticamente complexo. Pois a forma em que os dados estão sendo categorizados, através da contagem da repetição das palavras e aplicação do Multimodal Naive Bayes, já permite que se possa encontrar um resultado significativamente satisfatório. Mas optei por alterar essa abordagem a fim de realizar testes para tentar encontrar formas de se obter resultados melhores.\n",
    "\n",
    "Para isso, optei por aplicar o TF-IDF como a nova forma de classificação e uso no treino do algoritmo. E reteste usando o Multimodal Naive Bayes. No entanto, pude notar que houve melhorias na precisão e recalls, mas a acurácia diminuiu. Portanto, selecionei 3 outros algoritmos que acreditei que poderiam gerar resultados melhores. Eles foram o Multi-layer Perceptron Classifier, Random Forest e Support Vector Machines. Para que eles possam ser comparados com o Naive Bayes, quanto se eles obtiveram resultados melhores.\n",
    "\n",
    "Pôde ser observado que a eficiência de todos esses algoritmos é excelente. Porém, vale destacar que o Multi-layer Perceptron Classifier foi o que apresentou os melhores valores em média, sendo o melhor em acurácia e recall, e chegando bem próximo dos valores de precisão do melhor algoritmo, perdendo por valores matematicamente desprezíveis, para a implementação original do Multimodal Naive Bayes."
   ]
  }
 ],
 "metadata": {
  "kernelspec": {
   "display_name": "Python 3",
   "language": "python",
   "name": "python3"
  },
  "language_info": {
   "codemirror_mode": {
    "name": "ipython",
    "version": 3
   },
   "file_extension": ".py",
   "mimetype": "text/x-python",
   "name": "python",
   "nbconvert_exporter": "python",
   "pygments_lexer": "ipython3",
   "version": "3.7.10"
  },
  "papermill": {
   "default_parameters": {},
   "duration": 61.097304,
   "end_time": "2023-07-03T17:25:04.883719",
   "environment_variables": {},
   "exception": null,
   "input_path": "__notebook__.ipynb",
   "output_path": "__notebook__.ipynb",
   "parameters": {},
   "start_time": "2023-07-03T17:24:03.786415",
   "version": "2.3.3"
  }
 },
 "nbformat": 4,
 "nbformat_minor": 5
}
